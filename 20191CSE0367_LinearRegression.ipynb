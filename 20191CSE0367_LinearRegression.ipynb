{
  "nbformat": 4,
  "nbformat_minor": 0,
  "metadata": {
    "colab": {
      "name": "20191CSE0367_LinearRegression",
      "provenance": [],
      "authorship_tag": "ABX9TyNLdllOu1suiNaoXmQPHnnO",
      "include_colab_link": true
    },
    "kernelspec": {
      "name": "python3",
      "display_name": "Python 3"
    },
    "language_info": {
      "name": "python"
    }
  },
  "cells": [
    {
      "cell_type": "markdown",
      "metadata": {
        "id": "view-in-github",
        "colab_type": "text"
      },
      "source": [
        "<a href=\"https://colab.research.google.com/github/NALLANNAGARIHEMALATHA/NASSCOM-PROJECT/blob/main/20191CSE0367_LinearRegression.ipynb\" target=\"_parent\"><img src=\"https://colab.research.google.com/assets/colab-badge.svg\" alt=\"Open In Colab\"/></a>"
      ]
    },
    {
      "cell_type": "code",
      "metadata": {
        "id": "-cektH1ituXb"
      },
      "source": [
        ""
      ],
      "execution_count": null,
      "outputs": []
    },
    {
      "cell_type": "markdown",
      "metadata": {
        "id": "05v3L7rxtwCG"
      },
      "source": [
        "NASSCCOM PROJECT\n",
        "\n",
        "NALLANNA GARI HEMALATHA\n",
        "\n",
        "20191CSE0367\n",
        "\n",
        "5CSE07\n",
        "\n",
        "\n"
      ]
    },
    {
      "cell_type": "markdown",
      "metadata": {
        "id": "-a6GqArPwcv5"
      },
      "source": [
        "Linear Regression:\n",
        "\n",
        "Linear Regression is a predictive modelling technique that establishes a relationship between dependent variable (Y) and one or more explanatory variables denoted by X, using a best fit straight line (also known as regression line). It is represented by the equation, 𝑌 = 𝑎 + 𝑏 ∗ 𝑋 + 𝑒, where a is intercept, b is slope of the line and e is error term.  "
      ]
    },
    {
      "cell_type": "markdown",
      "metadata": {
        "id": "rHcnmUe8zJIB"
      },
      "source": [
        " Determining the Best Fitting Line :\n",
        " \n",
        " Consider we have a random sample of 20 students with their height (x) and weight (y) and we need to establish a relationship between the two. One of the first and basic approach to fit a line through the data points is to create a scatter plot of (x,y) and draw a straight line that fits the experimental data. Figure 3 Since there can be multiple lines that fit the data, the challenge arises in choosing the one that best fits. As we already know, the best fit line can be represented as 𝑦̂i = 𝑏0 + 𝑏1𝑥𝑖 Where, • 𝑦 denotes the observed response for experimental uniti • 𝑥𝑖 denotes the predictor value for experimental uniti • 𝑦̂i is the predicted response (or fitted value) for experimental unit i When we predict height using the above equation, the predicted value of the prediction wouldn't be perfectly accurate. It has some \"prediction error\" (or \"residual error\"). This can be represented as 𝑒𝑖 = 𝑦𝑖 − 𝑦̂i A line that fits the data best will be one for which the n (i = 1 to n) prediction errors, one for each observed data point, are as small as possible in some overall sense. One way to achieve this goal is to invoke the \"least squares criterion,\" which says to \"minimize the sum of the squared prediction errors.\"\n",
        " The equation of the best fitting line is: ŷ𝑖 = 𝑏0 + 𝑏1𝑥𝑖 We need to find the values of b0 and b1 that make the sum of the squared prediction errors the smallest i.e. Residual Squares = ∑𝑛 𝑒𝑖 2 = ∑𝑛 (𝑦𝑖 − ŷ𝑖) 2\n",
        "\n",
        "𝑖=1 𝑖=1 Because the deviations are first squared, then added, there is no cancelling out between positive and negative values. Least Square Estimates For the above equation 𝑏0 and 𝑏1 are determined using the following: 𝑏̂0 = 𝑌̅ – 𝑏̂1𝑋̅ and 𝑏̂1 = ∑ (Xi 𝑛 𝑖=1 −𝑋̅)(Yi−𝑌̅) ∑ (Xi−𝑋̅ ) 𝑛 2 𝑖=1 Because the formulas for b0 and b1 are derived using the least squares criterion, the resulting equation, 𝑦̂i = 𝑏0 + 𝑏1𝑥𝑖, is often referred to as the \"least squares regression line,\" or simply the \"least squares line.\" It is also sometimes called the \"estimated regression equation.\" What Does the Equation Mean? The equation above is a physical interpretation of each of the coefficients and hence it is very important to understand what the regression equation means. • The coefficient 𝑏0, or the intercept, is the expected value of Y when X = 0 • The coefficient 𝑏1, or the slope, is the expected change in Y when X is increased by one unit.\n"
      ]
    },
    {
      "cell_type": "markdown",
      "metadata": {
        "id": "srVzP18a5he0"
      },
      "source": [
        "Fitting simple linear regression :"
      ]
    },
    {
      "cell_type": "code",
      "metadata": {
        "id": "GiMFPIbs5HXZ"
      },
      "source": [
        "from sklearn.linear_model import LinearRegression\n",
        "regressor = LinearRegression()\n",
        "regressor.fit(x_trainy_train)"
      ],
      "execution_count": null,
      "outputs": []
    },
    {
      "cell_type": "code",
      "metadata": {
        "id": "T6MibY0c5x2W"
      },
      "source": [
        "%matplotlib inline\n",
        "import matplotlib.pyplot as plt\n",
        "import seaborn as sns; sns.set()\n",
        "import numpy as np\n"
      ],
      "execution_count": 14,
      "outputs": []
    },
    {
      "cell_type": "code",
      "metadata": {
        "colab": {
          "base_uri": "https://localhost:8080/",
          "height": 268
        },
        "id": "wCQ4Bzqn6FaD",
        "outputId": "a546a401-b53b-4776-a904-87363f4a770e"
      },
      "source": [
        "rng = np.random.RandomState(1)\n",
        "x = 10 * rng.rand(50)\n",
        "y = 2 * x-5+rng.rand(50)\n",
        "plt.scatter(x,y);\n"
      ],
      "execution_count": 15,
      "outputs": [
        {
          "output_type": "display_data",
          "data": {
            "image/png": "[encoded data removed]",
            "text/plain": [
              "<Figure size 432x288 with 1 Axes>"
            ]
          },
          "metadata": {}
        }
      ]
    },
    {
      "cell_type": "code",
      "metadata": {
        "colab": {
          "base_uri": "https://localhost:8080/",
          "height": 268
        },
        "id": "kdR44n3r6Vks",
        "outputId": "40f4195e-e678-450c-d1ad-9e6d7114b55b"
      },
      "source": [
        "from sklearn.linear_model import LinearRegression\n",
        "model = LinearRegression(fit_intercept=True)\n",
        "\n",
        "model.fit(x[:, np.newaxis], y)\n",
        "\n",
        "xfit = np.linspace(0,20,1999)\n",
        "yfit = model.predict(xfit[:,np.newaxis])\n",
        "\n",
        "plt.scatter(x,y)\n",
        "plt.plot(xfit,yfit);"
      ],
      "execution_count": 16,
      "outputs": [
        {
          "output_type": "display_data",
          "data": {
            "image/png": "[encoded data removed]",
            "text/plain": [
              "<Figure size 432x288 with 1 Axes>"
            ]
          },
          "metadata": {}
        }
      ]
    }
  ]
}